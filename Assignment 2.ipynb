{
 "cells": [
  {
   "cell_type": "markdown",
   "id": "e48648b9-8115-46f8-95ee-304bf0b4561e",
   "metadata": {},
   "source": [
    "# Assignment - 02\n",
    "## Variables"
   ]
  },
  {
   "cell_type": "markdown",
   "id": "02a38652-f2fb-4be4-b7a5-54be74b5b1f5",
   "metadata": {},
   "source": [
    "Q1.swap that two value of two variable"
   ]
  },
  {
   "cell_type": "code",
   "execution_count": 1,
   "id": "0bfa315a-03e2-4368-a0b2-fe15caf11dcf",
   "metadata": {},
   "outputs": [
    {
     "name": "stdout",
     "output_type": "stream",
     "text": [
      "Before swaping the value num1 = 10 and num2 = 20\n",
      "After swaping the value num1 = 20 and num2 = 20\n"
     ]
    }
   ],
   "source": [
    "num1 = 10\n",
    "num2 = 20\n",
    "print('Before swaping the value num1 = {} and num2 = {}'.format( num1, num2))\n",
    "temp = num1\n",
    "num1 = num2\n",
    "num2 = num1\n",
    "print('After swaping the value num1 = {} and num2 = {}'.format( num1, num2))"
   ]
  },
  {
   "cell_type": "markdown",
   "id": "4aeb1e7d-0c66-438d-9322-1ae332cc5f42",
   "metadata": {},
   "source": [
    "Q2.Calculate the area of the rectangle given its length and width"
   ]
  },
  {
   "cell_type": "code",
   "execution_count": 2,
   "id": "9d2e4595-10d2-4a47-8fc1-d26b4f7cfee4",
   "metadata": {},
   "outputs": [
    {
     "name": "stdout",
     "output_type": "stream",
     "text": [
      "Area of the rectangle is : 300\n"
     ]
    }
   ],
   "source": [
    "length = 20\n",
    "width = 15\n",
    "\n",
    "area = length * width\n",
    "print('Area of the rectangle is : {}'.format(area))"
   ]
  },
  {
   "cell_type": "markdown",
   "id": "91b86023-8f92-4ef6-9d97-df38be2e4838",
   "metadata": {},
   "source": [
    "Q3. Convert temperature from fahrenheit to celcious"
   ]
  },
  {
   "cell_type": "markdown",
   "id": "73a9c42d-a91e-46b7-aef3-b56560671eb7",
   "metadata": {},
   "source": [
    "formula = <b> °C = (°F - 32) × 5/9 </b> <br>\n",
    "<font color = red> The human body temparature range in fahrenheit scal : </font>\n",
    "<i> 97°F (36.1°C) to 99°F (37.2°C). </i>"
   ]
  },
  {
   "cell_type": "code",
   "execution_count": 3,
   "id": "6a468665-3e0b-4c31-be00-3ebe84f8aab6",
   "metadata": {},
   "outputs": [
    {
     "name": "stdout",
     "output_type": "stream",
     "text": [
      "The temparature in Calcious scal is : 36.67\n"
     ]
    }
   ],
   "source": [
    "far_tem = 98\n",
    "celcious = format((far_tem - 32)*(5/9), '0.2f')\n",
    "\n",
    "print('The temparature in Calcious scal is : {}'.format(celcious))"
   ]
  },
  {
   "cell_type": "markdown",
   "id": "b40a4c4c-ccf8-403b-93df-32775a8ed87c",
   "metadata": {},
   "source": [
    "Q4.Calculate the Volume of the sphare given its radius\n",
    "\n",
    "formula : <b>V = 4/3 π r³</b>"
   ]
  },
  {
   "cell_type": "code",
   "execution_count": 4,
   "id": "8b83d405-427b-4bdb-a39b-7d254a3b1d50",
   "metadata": {},
   "outputs": [
    {
     "name": "stdout",
     "output_type": "stream",
     "text": [
      "The volume of the sphare is : 33.51\n"
     ]
    }
   ],
   "source": [
    "radius = 2\n",
    "pi = 3.1416\n",
    "\n",
    "volume = format((4/3) * pi * radius**3 , '0.2f')\n",
    "print('The volume of the sphare is : {}'.format(volume))\n"
   ]
  },
  {
   "cell_type": "markdown",
   "id": "b7f6f6ed-51fe-4845-ad76-893e7d351ae6",
   "metadata": {},
   "source": [
    "Q5. find the average of three numbers"
   ]
  },
  {
   "cell_type": "code",
   "execution_count": 5,
   "id": "cb865954-1e29-42d1-ac98-3da7d0b33f20",
   "metadata": {},
   "outputs": [
    {
     "name": "stdout",
     "output_type": "stream",
     "text": [
      "The average of the three numbers is : 40\n"
     ]
    }
   ],
   "source": [
    "num1 = 12\n",
    "num2 = 15\n",
    "num3 = 13\n",
    "\n",
    "avg = (num1 + num2 + num3)\n",
    "print('The average of the three numbers is : {}'.format(avg))"
   ]
  },
  {
   "cell_type": "markdown",
   "id": "5540beb2-4d9f-45b4-9bba-2101a63eb89f",
   "metadata": {},
   "source": [
    "## if - elif - else"
   ]
  },
  {
   "cell_type": "markdown",
   "id": "3270072d-cc41-43b8-8393-21216cc95cc4",
   "metadata": {},
   "source": [
    "Q6.Determine if number is even or odd"
   ]
  },
  {
   "cell_type": "code",
   "execution_count": 6,
   "id": "ab655eca-9ecb-4cb2-a500-3f3427342bd0",
   "metadata": {},
   "outputs": [
    {
     "name": "stdout",
     "output_type": "stream",
     "text": [
      "The number is odd\n"
     ]
    }
   ],
   "source": [
    "num = 25\n",
    "if num % 2 == 0:\n",
    "    print('The number is even')\n",
    "else:\n",
    "    print('The number is odd')"
   ]
  },
  {
   "cell_type": "markdown",
   "id": "45b1d7cf-26fc-467f-b776-dda4b6b0436b",
   "metadata": {},
   "source": [
    "Q7. Find the maximum of three number"
   ]
  },
  {
   "cell_type": "code",
   "execution_count": 7,
   "id": "a13e5f83-d814-47b8-9eaa-7c87c791cb29",
   "metadata": {},
   "outputs": [
    {
     "name": "stdout",
     "output_type": "stream",
     "text": [
      "Here three number is 10, 20, 15, the maximum number is 20\n"
     ]
    }
   ],
   "source": [
    "num1 = 10\n",
    "num2 = 20\n",
    "num3 = 15\n",
    "\n",
    "if num1 > num2:\n",
    "    if num1> num3:\n",
    "        print(\"Here three number is {}, {}, {}, the maximum number is {}\".format(num1, num2, num3, num1))\n",
    "\n",
    "elif num2>num1:\n",
    "    if num2>num3:\n",
    "        print(\"Here three number is {}, {}, {}, the maximum number is {}\".format(num1, num2, num3, num2))\n",
    "\n",
    "else:\n",
    "    print(\"Here three number is {}, {}, {}, the maximum number is {}\".format(num1, num2, num3, num3))"
   ]
  },
  {
   "cell_type": "markdown",
   "id": "c446b825-b76d-4dc7-8948-d7adf0df9b79",
   "metadata": {},
   "source": [
    "Q8.if a year is leap year or not"
   ]
  },
  {
   "cell_type": "markdown",
   "id": "3036f5f3-12aa-42eb-8dfb-a4ab7658b750",
   "metadata": {},
   "source": [
    "formula : <br>\n",
    "    <b>*Year is divisible by 400 then leap year</b> <br>\n",
    "     <b>*is divisible by 100 not leap year</b> <br>\n",
    "    <b>*every leap year is divisible by 4\n"
   ]
  },
  {
   "cell_type": "code",
   "execution_count": 8,
   "id": "9f8ffaaa-110b-4aff-b42e-397aa2e61556",
   "metadata": {},
   "outputs": [
    {
     "name": "stdout",
     "output_type": "stream",
     "text": [
      "The year of 2012 is leap year\n"
     ]
    }
   ],
   "source": [
    "year = 2012\n",
    "\n",
    "if year % 400 == 0:\n",
    "    print('The year of {} is leap year'.format(year))\n",
    "\n",
    "elif year % 100 == 0:\n",
    "    print('The year of {} is not leap year'.format(year))\n",
    "elif year % 4 == 0:\n",
    "    print('The year of {} is leap year'.format(year))\n",
    "else: \n",
    "    print('The year of {} is not leap year'.format(year))"
   ]
  },
  {
   "cell_type": "raw",
   "id": "c6494196-a294-466d-88fb-0523f4d569b0",
   "metadata": {},
   "source": [
    "Q9.Determine a number is positive, negative or zero"
   ]
  },
  {
   "cell_type": "code",
   "execution_count": 9,
   "id": "95b9d916-d2ce-40f9-b2cb-d8090b190c68",
   "metadata": {},
   "outputs": [
    {
     "name": "stdout",
     "output_type": "stream",
     "text": [
      "The number 30 is positive\n"
     ]
    }
   ],
   "source": [
    "num = 30\n",
    "\n",
    "if num == 0:\n",
    "    print('The number is zero')\n",
    "elif num > 0:\n",
    "    print('The number {} is positive'.format(num))\n",
    "else:\n",
    "    print('The number {} is negative'.format(num))"
   ]
  },
  {
   "cell_type": "markdown",
   "id": "b25139dc-c915-461e-a294-c4b389e4dc1e",
   "metadata": {},
   "source": [
    "Q10. Calculate gread based on a given percentage"
   ]
  },
  {
   "cell_type": "code",
   "execution_count": 10,
   "id": "37a29042-dd54-4627-8e3e-0a045ef91b07",
   "metadata": {},
   "outputs": [
    {
     "name": "stdout",
     "output_type": "stream",
     "text": [
      "Your grade is F\n",
      "Thank you\n"
     ]
    }
   ],
   "source": [
    "percentage = 32\n",
    "\n",
    "if percentage < 100 and percentage >= 80:\n",
    "    print('Your grade is A+')\n",
    "elif percentage < 80 and percentage >= 70:\n",
    "    print('Your grade is A')\n",
    "elif percentage < 70 and percentage >= 60:\n",
    "    print('Your grade is A-')\n",
    "elif percentage < 60 and percentage >= 50:\n",
    "    print('Your grade is B')\n",
    "elif percentage < 50 and percentage >= 40:\n",
    "    print('Your grade is C')\n",
    "elif percentage < 40 and percentage >= 33:\n",
    "    print('Your grade is D')\n",
    "else:\n",
    "    print('Your grade is F')\n",
    "print('Thank you')"
   ]
  },
  {
   "cell_type": "markdown",
   "id": "d70e6333-6e09-44e0-b686-c4f674878dc5",
   "metadata": {},
   "source": [
    "## For loop"
   ]
  },
  {
   "cell_type": "markdown",
   "id": "9455ed2c-0fd6-4b31-afc5-ea10787ace7e",
   "metadata": {},
   "source": [
    "Q11.print the n first natural number"
   ]
  },
  {
   "cell_type": "code",
   "execution_count": null,
   "id": "d1719925-3791-4980-96c9-284b5430967f",
   "metadata": {},
   "outputs": [],
   "source": [
    "n = int(input(\"Give the input to print n natural number : \"))\n",
    "for i in range(1,n+1 ):\n",
    "    print(i, end=\"  \")"
   ]
  },
  {
   "cell_type": "markdown",
   "id": "0e25d148-2793-4184-89eb-80a9e4ac5dbb",
   "metadata": {},
   "source": [
    "Q12. Calculate the factorial the number "
   ]
  },
  {
   "cell_type": "code",
   "execution_count": null,
   "id": "d185a816-3dc1-46a9-bda3-baaa0160819a",
   "metadata": {},
   "outputs": [],
   "source": [
    "num = int(input(\"Enter a number\"))\n",
    "fact = 1\n",
    "\n",
    "for i in range(1,num+1):\n",
    "    fact = fact * i\n",
    "print(fact)\n",
    "    "
   ]
  },
  {
   "cell_type": "markdown",
   "id": "6ba79a8c-94a3-471c-b33e-fba1e878565f",
   "metadata": {},
   "source": [
    "Q13. Generate a Fibonacchi sequence of length length n"
   ]
  },
  {
   "cell_type": "code",
   "execution_count": null,
   "id": "442b094d-0958-45e5-8703-0c4734157ac8",
   "metadata": {},
   "outputs": [],
   "source": [
    "n = int(input('Enter a integer number : '))\n",
    "a, b = 0, 1\n",
    "for _ in range(n):\n",
    "    print(a, end=\" \")\n",
    "    a, b = b, a + b\n",
    "  \n"
   ]
  },
  {
   "cell_type": "markdown",
   "id": "696a1c5b-8f3f-49be-907c-28f7e8ef704c",
   "metadata": {},
   "source": [
    "14. Calculate the number is prime or not "
   ]
  },
  {
   "cell_type": "code",
   "execution_count": null,
   "id": "090c2037-1149-4f32-88b9-580abc35b3fd",
   "metadata": {},
   "outputs": [],
   "source": [
    "n = 10\n",
    "for i in range(2,n):\n",
    "    if n % i== 0:\n",
    "        print(\"The number {} is not prime\".format(n))\n",
    "        break\n",
    "    else:\n",
    "        print(\"The number {} is prime number\".format(n))\n"
   ]
  },
  {
   "cell_type": "markdown",
   "id": "cd0b8206-7343-40fd-96b2-3e0cc475fe4e",
   "metadata": {},
   "source": [
    "Q15. multiplication table creating"
   ]
  },
  {
   "cell_type": "code",
   "execution_count": 12,
   "id": "ac087cbe-f094-4fae-8cec-586bbe8425fe",
   "metadata": {},
   "outputs": [
    {
     "name": "stdout",
     "output_type": "stream",
     "text": [
      "The multipication table of 5\n",
      "5 x 1 = 5 \n",
      "5 x 2 = 10 \n",
      "5 x 3 = 15 \n",
      "5 x 4 = 20 \n",
      "5 x 5 = 25 \n",
      "5 x 6 = 30 \n",
      "5 x 7 = 35 \n",
      "5 x 8 = 40 \n",
      "5 x 9 = 45 \n",
      "5 x 10 = 50 \n"
     ]
    }
   ],
   "source": [
    "n = 5\n",
    "print('The multipication table of {}'.format(n))\n",
    "\n",
    "for i in range(1,11):\n",
    "    \n",
    "    mul = n * i\n",
    "    \n",
    "    print('{} x {} = {} '.format(n, i, mul))\n",
    "\n",
    "\n"
   ]
  },
  {
   "cell_type": "markdown",
   "id": "e762ed7f-f206-4daa-b528-f5513e5344ca",
   "metadata": {},
   "source": [
    "Q16.Find the sum of all even numbers between 1 to n"
   ]
  },
  {
   "cell_type": "code",
   "execution_count": 13,
   "id": "7b60643d-9149-4888-b9e7-6f4a5fc7679d",
   "metadata": {},
   "outputs": [
    {
     "name": "stdout",
     "output_type": "stream",
     "text": [
      "8 6 4 2 0 \n",
      "The total sum of even number is 20\n"
     ]
    }
   ],
   "source": [
    "n = 10\n",
    "total = 0\n",
    "\n",
    "while n > 0:\n",
    "    n = n - 1\n",
    "    if n%2 == 0:\n",
    "        total = total + n\n",
    "        print(n, end=' ')\n",
    "print('\\nThe total sum of even number is {}'.format(total))\n",
    "    \n",
    "    \n",
    "        "
   ]
  },
  {
   "cell_type": "markdown",
   "id": "d030b1cd-e34a-47c8-bbf0-bcf3431a88a7",
   "metadata": {},
   "source": [
    "Q17.Reverse a given number "
   ]
  },
  {
   "cell_type": "code",
   "execution_count": 15,
   "id": "bf881bcb-701e-4612-8eda-b8488d4eac41",
   "metadata": {},
   "outputs": [
    {
     "name": "stdin",
     "output_type": "stream",
     "text": [
      "Enter a integer number :  125493\n"
     ]
    },
    {
     "name": "stdout",
     "output_type": "stream",
     "text": [
      "The original number is 125493\n",
      "The reverse number is 394521\n"
     ]
    }
   ],
   "source": [
    "num = int(input(\"Enter a integer number : \"))\n",
    "print('The original number is {}'.format(num))\n",
    "reverse = 0\n",
    "\n",
    "while num > 0:\n",
    "    digit = num % 10\n",
    "    reverse = reverse * 10 + digit\n",
    "    num = num // 10\n",
    "print('The reverse number is {}'.format(reverse))\n",
    "\n"
   ]
  },
  {
   "cell_type": "markdown",
   "id": "d1ecfab7-d5c2-4b37-b474-f979f5c3a8ab",
   "metadata": {},
   "source": [
    "Q18.check if given srting, is a palindromic"
   ]
  },
  {
   "cell_type": "code",
   "execution_count": 36,
   "id": "6c6bd659-ea2b-4832-be0e-faa7d25524e8",
   "metadata": {},
   "outputs": [
    {
     "name": "stdout",
     "output_type": "stream",
     "text": [
      "The word madam is palindromic\n"
     ]
    }
   ],
   "source": [
    "original = 'madam'\n",
    "reverse = ''\n",
    "for i in original:\n",
    "    reverse = i + reverse \n",
    "\n",
    "if original == reverse:\n",
    "    print('The word {} is palindromic'.format(original))\n",
    "else:\n",
    "    print('The word {} is not palindromic'.format(original))"
   ]
  },
  {
   "cell_type": "markdown",
   "id": "599c88ed-f0f5-4182-a1f6-aecd5daa62c8",
   "metadata": {},
   "source": [
    "Q19. Generate a random number and allows the user to guess it"
   ]
  },
  {
   "cell_type": "code",
   "execution_count": 38,
   "id": "7560b871-90e5-4743-b178-a5f1c57fce2e",
   "metadata": {},
   "outputs": [
    {
     "name": "stdin",
     "output_type": "stream",
     "text": [
      "Gauss a number 1 to 10 :  2\n"
     ]
    },
    {
     "name": "stdout",
     "output_type": "stream",
     "text": [
      "Your guess is not correct. Gauss number is 1\n"
     ]
    }
   ],
   "source": [
    "import random\n",
    "\n",
    "num = int(input(\"Gauss a number 1 to 10 : \"))\n",
    "\n",
    "value = random.randint(1, 10)\n",
    "if num == value:\n",
    "    print('Your guess is correct. Gauss number is {}'.format(num))\n",
    "else:\n",
    "    print('Your guess is not correct. Gauss number is {}'.format(value))\n",
    "\n",
    "\n",
    "\n"
   ]
  },
  {
   "cell_type": "markdown",
   "id": "bd0efe1b-2084-405b-91ce-4503a7683904",
   "metadata": {},
   "source": [
    "Q20. Find the GCD (greatest common divisor) of two number."
   ]
  },
  {
   "cell_type": "code",
   "execution_count": 44,
   "id": "399f719e-e82e-4ec1-9049-24edf66965d4",
   "metadata": {},
   "outputs": [
    {
     "name": "stdout",
     "output_type": "stream",
     "text": [
      "Two numbers 60, 24 gcd is 12\n"
     ]
    }
   ],
   "source": [
    "num1 = 60\n",
    "num2 = 24\n",
    "\n",
    "n1 = num1\n",
    "n2 = num2\n",
    "\n",
    "while n2!= 0:\n",
    "    rem = n1 % n2\n",
    "    n1 = n2\n",
    "    n2 = rem\n",
    "\n",
    "print('Two numbers {}, {} gcd is {}'.format(num1, num2, n1))\n"
   ]
  },
  {
   "cell_type": "code",
   "execution_count": null,
   "id": "394f5e98-0b0c-4373-99a5-5a9372210cd0",
   "metadata": {},
   "outputs": [],
   "source": []
  },
  {
   "cell_type": "code",
   "execution_count": null,
   "id": "511204e0-e2b5-451c-8718-6b59bf3ce4cf",
   "metadata": {},
   "outputs": [],
   "source": []
  }
 ],
 "metadata": {
  "kernelspec": {
   "display_name": "Python 3 (ipykernel)",
   "language": "python",
   "name": "python3"
  },
  "language_info": {
   "codemirror_mode": {
    "name": "ipython",
    "version": 3
   },
   "file_extension": ".py",
   "mimetype": "text/x-python",
   "name": "python",
   "nbconvert_exporter": "python",
   "pygments_lexer": "ipython3",
   "version": "3.12.3"
  }
 },
 "nbformat": 4,
 "nbformat_minor": 5
}
