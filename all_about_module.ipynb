{
 "cells": [
  {
   "cell_type": "markdown",
   "id": "445e7916-9c5a-41a3-8eb5-a5982525d538",
   "metadata": {},
   "source": [
    "## <font color = red> random module </font>"
   ]
  },
  {
   "cell_type": "code",
   "execution_count": 2,
   "id": "c338ac52-5cbd-4b3c-b942-8ae737607d1a",
   "metadata": {},
   "outputs": [
    {
     "name": "stdout",
     "output_type": "stream",
     "text": [
      "0.6630164447125995\n"
     ]
    }
   ],
   "source": [
    "import random\n",
    "\n",
    "value = random.random()  ## generate 0 to 1 a random value. but 1 is not included\n",
    "print(value)"
   ]
  },
  {
   "cell_type": "code",
   "execution_count": 5,
   "id": "5191615b-2d7f-46dd-bc9f-ad471895531c",
   "metadata": {},
   "outputs": [
    {
     "name": "stdout",
     "output_type": "stream",
     "text": [
      "1.562320768765484\n"
     ]
    }
   ],
   "source": [
    "value = random.uniform(1,10)   ## generate 1 to 10 integer with floating decimal number\n",
    "print(value) "
   ]
  },
  {
   "cell_type": "code",
   "execution_count": 9,
   "id": "b2751cf8-5cca-4cb0-bfae-875c5cfa0791",
   "metadata": {},
   "outputs": [
    {
     "name": "stdout",
     "output_type": "stream",
     "text": [
      "4\n"
     ]
    }
   ],
   "source": [
    "value = random.randint(1,6) ## generate a integer random number range 1 to 6\n",
    "print(value)"
   ]
  },
  {
   "cell_type": "code",
   "execution_count": 12,
   "id": "128aa3e6-6f72-4d51-a588-c68f100738dc",
   "metadata": {},
   "outputs": [
    {
     "name": "stdout",
     "output_type": "stream",
     "text": [
      "Howdy, Hasan!\n"
     ]
    }
   ],
   "source": [
    "greetings = ['Hello', 'Hi', 'Hey', 'Howdy','Hola']\n",
    "value = random.choice(greetings)\n",
    "print(value + ', Hasan!')"
   ]
  },
  {
   "cell_type": "code",
   "execution_count": 17,
   "id": "35a84b3f-0d07-4d64-a29c-321e2602cb89",
   "metadata": {},
   "outputs": [
    {
     "name": "stdout",
     "output_type": "stream",
     "text": [
      "['Green', 'Balck', 'Green', 'Green', 'Red', 'Balck', 'Green', 'Green', 'Green', 'Red']\n"
     ]
    }
   ],
   "source": [
    "colors = ['Red','Balck','Green']\n",
    "\n",
    "result = random.choices(colors, k = 10)    ## use plural choices\n",
    "print(result)"
   ]
  },
  {
   "cell_type": "code",
   "execution_count": 19,
   "id": "45abe702-8894-44ef-bbd1-2102a1c9cddc",
   "metadata": {},
   "outputs": [
    {
     "name": "stdout",
     "output_type": "stream",
     "text": [
      "['Red', 'Red', 'Red', 'Red', 'Red', 'Red', 'Red', 'Green', 'Green', 'Balck']\n"
     ]
    }
   ],
   "source": [
    "colors = ['Red','Balck','Green']\n",
    "\n",
    "result = random.choices(colors, weights=[18,18,2] ,k = 10)    # weight give the probability value\n",
    "print(result)"
   ]
  },
  {
   "cell_type": "code",
   "execution_count": 22,
   "id": "36638a00-5570-4214-b375-d8dba4e160aa",
   "metadata": {},
   "outputs": [
    {
     "name": "stdout",
     "output_type": "stream",
     "text": [
      "[14, 22, 21, 43, 46, 50, 33, 30, 35, 10, 17, 13, 15, 51, 9, 48, 29, 1, 12, 6, 36, 27, 47, 44, 18, 38, 42, 8, 39, 28, 4, 37, 5, 24, 49, 2, 52, 23, 40, 7, 16, 45, 20, 11, 25, 26, 32, 19, 31, 41, 34, 3]\n"
     ]
    }
   ],
   "source": [
    "deck = list(range(1, 53))\n",
    "random.shuffle(deck)\n",
    "print(deck)"
   ]
  },
  {
   "cell_type": "code",
   "execution_count": 25,
   "id": "49d311c3-7b68-4c6f-967a-45458050f646",
   "metadata": {},
   "outputs": [
    {
     "name": "stdout",
     "output_type": "stream",
     "text": [
      "[35, 40, 6, 33, 1]\n"
     ]
    }
   ],
   "source": [
    "deck = list(range(1, 53))\n",
    "\n",
    "hand = random.sample(deck, k= 5)\n",
    "print(hand)"
   ]
  },
  {
   "cell_type": "code",
   "execution_count": null,
   "id": "a8f51959-ff2d-43fa-857c-e466a5e94afb",
   "metadata": {},
   "outputs": [],
   "source": []
  }
 ],
 "metadata": {
  "kernelspec": {
   "display_name": "Python 3 (ipykernel)",
   "language": "python",
   "name": "python3"
  },
  "language_info": {
   "codemirror_mode": {
    "name": "ipython",
    "version": 3
   },
   "file_extension": ".py",
   "mimetype": "text/x-python",
   "name": "python",
   "nbconvert_exporter": "python",
   "pygments_lexer": "ipython3",
   "version": "3.12.3"
  }
 },
 "nbformat": 4,
 "nbformat_minor": 5
}
