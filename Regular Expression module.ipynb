{
 "cells": [
  {
   "cell_type": "code",
   "execution_count": 1,
   "id": "c438c7cc-429e-4d50-8543-5aef1bcb8c44",
   "metadata": {},
   "outputs": [],
   "source": [
    "import re"
   ]
  },
  {
   "cell_type": "code",
   "execution_count": 2,
   "id": "3caeb517-34fb-401f-8fd3-a48906bcc5ca",
   "metadata": {},
   "outputs": [
    {
     "data": {
      "text/plain": [
       "<re.Match object; span=(0, 17), match='The rain in Spain'>"
      ]
     },
     "execution_count": 2,
     "metadata": {},
     "output_type": "execute_result"
    }
   ],
   "source": [
    "# search the string to see if it starts with \"The\" and ends with \"Spains\"\n",
    "\n",
    "txt = 'The rain in Spain'\n",
    "x = re.search('^The.*Spain$', txt) \n",
    "x"
   ]
  },
  {
   "cell_type": "code",
   "execution_count": 3,
   "id": "e1e5e4b1-fb52-4424-a7a8-7beb87796414",
   "metadata": {},
   "outputs": [
    {
     "data": {
      "text/plain": [
       "['ai', 'ai']"
      ]
     },
     "execution_count": 3,
     "metadata": {},
     "output_type": "execute_result"
    }
   ],
   "source": [
    "# print a list of all matches\n",
    "\n",
    "txt = 'The rain in Spain'\n",
    "x = re.findall('ai', txt)\n",
    "x"
   ]
  },
  {
   "cell_type": "code",
   "execution_count": 4,
   "id": "97b67e7f-fbd9-485e-bc93-2ba4e885902b",
   "metadata": {},
   "outputs": [
    {
     "data": {
      "text/plain": [
       "[]"
      ]
     },
     "execution_count": 4,
     "metadata": {},
     "output_type": "execute_result"
    }
   ],
   "source": [
    "# if no matches are found , an empty list is return\n",
    "\n",
    "txt = 'The rain in Spain'\n",
    "x = re.findall('Portugal', txt)\n",
    "x"
   ]
  },
  {
   "cell_type": "code",
   "execution_count": 7,
   "id": "a7201d16-bf3e-4ca5-9010-e72712de6b69",
   "metadata": {},
   "outputs": [
    {
     "name": "stderr",
     "output_type": "stream",
     "text": [
      "<>:4: SyntaxWarning: invalid escape sequence '\\s'\n",
      "<>:4: SyntaxWarning: invalid escape sequence '\\s'\n",
      "C:\\Users\\HP1\\AppData\\Local\\Temp\\ipykernel_21340\\4278002607.py:4: SyntaxWarning: invalid escape sequence '\\s'\n",
      "  x = re.search('\\s', txt)  # first white-space character is located in position: 3    syntex '\\s'\n"
     ]
    },
    {
     "data": {
      "text/plain": [
       "3"
      ]
     },
     "execution_count": 7,
     "metadata": {},
     "output_type": "execute_result"
    }
   ],
   "source": [
    "# the search function searches the string for a match, and return match.\n",
    "\n",
    "txt = 'The rain in Spain'\n",
    "x = re.search('\\s', txt)  # first white-space character is located in position: 3    syntex '\\s'\n",
    "x.start()"
   ]
  },
  {
   "cell_type": "code",
   "execution_count": 10,
   "id": "7252c5d3-6d7f-4ad0-aa2f-81fb3cd434ab",
   "metadata": {},
   "outputs": [
    {
     "name": "stdout",
     "output_type": "stream",
     "text": [
      "None\n"
     ]
    }
   ],
   "source": [
    "txt = 'The rain in Spain'\n",
    "x = re.search('Portugal', txt)   #  search, and not find then return None \n",
    "print(x)"
   ]
  },
  {
   "cell_type": "code",
   "execution_count": 12,
   "id": "ed85494c-902d-48b5-89f0-4d55e3fddca4",
   "metadata": {},
   "outputs": [
    {
     "name": "stderr",
     "output_type": "stream",
     "text": [
      "<>:2: SyntaxWarning: invalid escape sequence '\\s'\n",
      "<>:2: SyntaxWarning: invalid escape sequence '\\s'\n",
      "C:\\Users\\HP1\\AppData\\Local\\Temp\\ipykernel_21340\\2126436587.py:2: SyntaxWarning: invalid escape sequence '\\s'\n",
      "  x = re.split('\\s', txt)    # spliting with respect to space\n"
     ]
    },
    {
     "data": {
      "text/plain": [
       "['The', 'rain', 'in', 'Spain']"
      ]
     },
     "execution_count": 12,
     "metadata": {},
     "output_type": "execute_result"
    }
   ],
   "source": [
    "\n",
    "txt = 'The rain in Spain'\n",
    "x = re.split('\\s', txt)    # spliting with respect to space\n",
    "x\n"
   ]
  },
  {
   "cell_type": "code",
   "execution_count": 16,
   "id": "2bb3f5a3-76f6-44bc-8237-10a020d3f9a7",
   "metadata": {},
   "outputs": [
    {
     "name": "stdout",
     "output_type": "stream",
     "text": [
      "['The', 'rain in Spain']\n"
     ]
    },
    {
     "name": "stderr",
     "output_type": "stream",
     "text": [
      "<>:4: SyntaxWarning: invalid escape sequence '\\s'\n",
      "<>:4: SyntaxWarning: invalid escape sequence '\\s'\n",
      "C:\\Users\\HP1\\AppData\\Local\\Temp\\ipykernel_21340\\2345466260.py:4: SyntaxWarning: invalid escape sequence '\\s'\n",
      "  x = re.split('\\s', txt, 1)\n"
     ]
    }
   ],
   "source": [
    "# split the string only the first occurence\n",
    "\n",
    "txt = 'The rain in Spain'\n",
    "x = re.split('\\s', txt, 1)\n",
    "print(x)"
   ]
  },
  {
   "cell_type": "code",
   "execution_count": 18,
   "id": "7c0ca4b8-5c98-4a08-9c05-23b758d235ab",
   "metadata": {},
   "outputs": [
    {
     "name": "stdout",
     "output_type": "stream",
     "text": [
      "['The', 'rain', 'in Spain']\n"
     ]
    },
    {
     "name": "stderr",
     "output_type": "stream",
     "text": [
      "<>:4: SyntaxWarning: invalid escape sequence '\\s'\n",
      "<>:4: SyntaxWarning: invalid escape sequence '\\s'\n",
      "C:\\Users\\HP1\\AppData\\Local\\Temp\\ipykernel_21340\\3939097514.py:4: SyntaxWarning: invalid escape sequence '\\s'\n",
      "  x = re.split('\\s', txt, 2)\n"
     ]
    }
   ],
   "source": [
    "# split the string only the first and second occurence\n",
    "\n",
    "txt = 'The rain in Spain'\n",
    "x = re.split('\\s', txt, 2)\n",
    "print(x)"
   ]
  },
  {
   "cell_type": "code",
   "execution_count": 19,
   "id": "69dc9b55-e066-4776-972a-dbae0b5cf764",
   "metadata": {},
   "outputs": [
    {
     "name": "stdout",
     "output_type": "stream",
     "text": [
      "The9rain9in9Spain\n"
     ]
    },
    {
     "name": "stderr",
     "output_type": "stream",
     "text": [
      "<>:6: SyntaxWarning: invalid escape sequence '\\s'\n",
      "<>:6: SyntaxWarning: invalid escape sequence '\\s'\n",
      "C:\\Users\\HP1\\AppData\\Local\\Temp\\ipykernel_21340\\608154942.py:6: SyntaxWarning: invalid escape sequence '\\s'\n",
      "  x = re.sub('\\s', '9',txt)\n"
     ]
    }
   ],
   "source": [
    "# replace every white space character with the number 9\n",
    "\n",
    "txt = 'The rain in Spain'\n",
    "x = re.sub('\\s', '9',txt)\n",
    "print(x)\n",
    "\n"
   ]
  },
  {
   "cell_type": "code",
   "execution_count": 20,
   "id": "b2fed305-38e9-43ca-938b-7bf3eb942278",
   "metadata": {},
   "outputs": [
    {
     "name": "stdout",
     "output_type": "stream",
     "text": [
      "The9rain9in Spain\n"
     ]
    },
    {
     "name": "stderr",
     "output_type": "stream",
     "text": [
      "<>:4: SyntaxWarning: invalid escape sequence '\\s'\n",
      "<>:4: SyntaxWarning: invalid escape sequence '\\s'\n",
      "C:\\Users\\HP1\\AppData\\Local\\Temp\\ipykernel_21340\\3098303029.py:4: SyntaxWarning: invalid escape sequence '\\s'\n",
      "  x = re.sub('\\s', '9',txt, 2)\n"
     ]
    }
   ],
   "source": [
    "\n",
    "# replace the first 2 occurence\n",
    "\n",
    "txt = 'The rain in Spain'\n",
    "x = re.sub('\\s', '9',txt, 2)\n",
    "print(x)"
   ]
  },
  {
   "cell_type": "code",
   "execution_count": 23,
   "id": "f29d528a-b601-41cb-af2b-3aedea8a40a0",
   "metadata": {},
   "outputs": [
    {
     "name": "stdout",
     "output_type": "stream",
     "text": [
      "<re.Match object; span=(5, 7), match='ai'>\n"
     ]
    }
   ],
   "source": [
    "# Do a search that will return a Match Object\n",
    "\n",
    "txt = 'The rain in Spain'\n",
    "x = re.search('ai', txt)\n",
    "print(x)\n"
   ]
  },
  {
   "cell_type": "code",
   "execution_count": 25,
   "id": "2db363fe-06fb-4bd0-83ed-f70186fa770e",
   "metadata": {},
   "outputs": [
    {
     "name": "stdout",
     "output_type": "stream",
     "text": [
      "(12, 17)\n"
     ]
    }
   ],
   "source": [
    "\n",
    "txt = 'The rain in Spain'\n",
    "x = re.search(r'\\bS\\w+',txt)   # uppercase S is beginning of a word print position\n",
    "print(x.span())"
   ]
  },
  {
   "cell_type": "code",
   "execution_count": 27,
   "id": "2d188665-2bc8-48b2-a0d4-169be6ef429c",
   "metadata": {},
   "outputs": [
    {
     "name": "stdout",
     "output_type": "stream",
     "text": [
      "The rain in Spain\n"
     ]
    }
   ],
   "source": [
    "txt = 'The rain in Spain'\n",
    "x = re.search(r'\\bS\\w+',txt)   # uppercase S is beginning of a word print position\n",
    "print(x.string)  # the string property return the search string"
   ]
  },
  {
   "cell_type": "code",
   "execution_count": 28,
   "id": "ab10a288-4776-4ffc-a093-23f094b9ba49",
   "metadata": {},
   "outputs": [
    {
     "name": "stdout",
     "output_type": "stream",
     "text": [
      "Spain\n"
     ]
    }
   ],
   "source": [
    "txt = 'The rain in Spain'\n",
    "x = re.search(r'\\bS\\w+',txt)   # uppercase S is beginning of a word print position\n",
    "print(x.group())  # the group return specific word "
   ]
  },
  {
   "cell_type": "code",
   "execution_count": 30,
   "id": "f9d86024-7b36-4730-841f-e5349bcbee7f",
   "metadata": {},
   "outputs": [
    {
     "data": {
      "text/plain": [
       "['h', 'e', 'a', 'i', 'i', 'a', 'i']"
      ]
     },
     "execution_count": 30,
     "metadata": {},
     "output_type": "execute_result"
    }
   ],
   "source": [
    "# metacharacter\n",
    "\n",
    "\n",
    "txt = 'The rain in Spain'\n",
    "x = re.findall('[a-m]', txt)  # find all character a to m\n",
    "x\n"
   ]
  },
  {
   "cell_type": "code",
   "execution_count": 35,
   "id": "fbcc67a0-ca80-418d-bdcf-cb17fdda01c8",
   "metadata": {},
   "outputs": [
    {
     "name": "stderr",
     "output_type": "stream",
     "text": [
      "<>:4: SyntaxWarning: invalid escape sequence '\\d'\n",
      "<>:4: SyntaxWarning: invalid escape sequence '\\d'\n",
      "C:\\Users\\HP1\\AppData\\Local\\Temp\\ipykernel_21340\\3325505008.py:4: SyntaxWarning: invalid escape sequence '\\d'\n",
      "  x = re.findall('\\d', txt)\n"
     ]
    },
    {
     "data": {
      "text/plain": [
       "['5', '9']"
      ]
     },
     "execution_count": 35,
     "metadata": {},
     "output_type": "execute_result"
    }
   ],
   "source": [
    "# find all digit character\n",
    "\n",
    "txt = 'That will be 59 dollars'\n",
    "x = re.findall('\\d', txt)\n",
    "x\n"
   ]
  },
  {
   "cell_type": "code",
   "execution_count": 39,
   "id": "d211a285-b3dc-4ab6-9489-614d6d812b20",
   "metadata": {},
   "outputs": [
    {
     "data": {
      "text/plain": [
       "['hello']"
      ]
     },
     "execution_count": 39,
     "metadata": {},
     "output_type": "execute_result"
    }
   ],
   "source": [
    "# search for a sequence that start with 'he' , followed by \n",
    "# two (any) characters, and an 'o':\n",
    "\n",
    "\n",
    "txt = 'hello planet'\n",
    "x = re.findall('he..o', txt)\n",
    "x"
   ]
  },
  {
   "cell_type": "code",
   "execution_count": 43,
   "id": "9503f6c3-0715-4c3b-899f-2a15750b323f",
   "metadata": {},
   "outputs": [
    {
     "name": "stdout",
     "output_type": "stream",
     "text": [
      "Yes, the string starts with 'hello'\n"
     ]
    }
   ],
   "source": [
    "txt = 'hello planet'\n",
    "x = re.findall('^hello', txt)   # start with 'hello' word\n",
    "if x:\n",
    "    print(\"Yes, the string starts with 'hello'\")\n",
    "else:\n",
    "    print('No match')"
   ]
  },
  {
   "cell_type": "code",
   "execution_count": 44,
   "id": "1896c1ed-5896-438e-9ab1-f91270c12b23",
   "metadata": {},
   "outputs": [
    {
     "name": "stdout",
     "output_type": "stream",
     "text": [
      "ends with planet\n"
     ]
    }
   ],
   "source": [
    "# check ends with 'planet'\n",
    "\n",
    "txt = 'hello planet'\n",
    "x = re.findall('planet$', txt)\n",
    "if x:\n",
    "    print('ends with planet')\n",
    "else:\n",
    "    print('no match')\n",
    "\n"
   ]
  },
  {
   "cell_type": "code",
   "execution_count": 51,
   "id": "966c9a8a-0c24-4b78-9854-9daaf824472d",
   "metadata": {},
   "outputs": [
    {
     "data": {
      "text/plain": [
       "['hello']"
      ]
     },
     "execution_count": 51,
     "metadata": {},
     "output_type": "execute_result"
    }
   ],
   "source": [
    "txt = 'hello planet'\n",
    "x = re.findall(\"he.*o\", txt)     # 'he' zero or more charecter 'o'\n",
    "x"
   ]
  },
  {
   "cell_type": "code",
   "execution_count": 52,
   "id": "643955d2-3ed9-4296-905d-84c0b6620ed8",
   "metadata": {},
   "outputs": [
    {
     "data": {
      "text/plain": [
       "['hello']"
      ]
     },
     "execution_count": 52,
     "metadata": {},
     "output_type": "execute_result"
    }
   ],
   "source": [
    "txt = 'hello planet'\n",
    "x = re.findall(\"he.+o\", txt) # 'he' one or more charecter 'o'\n",
    "x"
   ]
  },
  {
   "cell_type": "code",
   "execution_count": 53,
   "id": "22b63d12-53d2-4acc-86ec-ee0c089cd0e3",
   "metadata": {},
   "outputs": [
    {
     "data": {
      "text/plain": [
       "[]"
      ]
     },
     "execution_count": 53,
     "metadata": {},
     "output_type": "execute_result"
    }
   ],
   "source": [
    "txt = 'hello planet'\n",
    "x = re.findall(\"he.?o\", txt) # 'he' zero or one charecter 'o'\n",
    "x"
   ]
  },
  {
   "cell_type": "code",
   "execution_count": 54,
   "id": "954c309b-de46-4212-98ba-d7289f92b371",
   "metadata": {},
   "outputs": [
    {
     "data": {
      "text/plain": [
       "['hello']"
      ]
     },
     "execution_count": 54,
     "metadata": {},
     "output_type": "execute_result"
    }
   ],
   "source": [
    "txt = 'hello planet'\n",
    "x = re.findall(\"he.{2}o\", txt) # 'he' exectly {2} charecter 'o'\n",
    "x"
   ]
  },
  {
   "cell_type": "code",
   "execution_count": 56,
   "id": "cc403d8e-7e07-4869-b1fd-7be7775fa8a4",
   "metadata": {},
   "outputs": [
    {
     "name": "stdout",
     "output_type": "stream",
     "text": [
      "['falls']\n",
      "Yes, there is at least one match!\n"
     ]
    }
   ],
   "source": [
    "txt = 'The rain in Spain falls mainly in the plain!'\n",
    "x = re.findall('falls|stays', txt)\n",
    "print(x)\n",
    "\n",
    "if x:\n",
    "    print('Yes, there is at least one match!')\n",
    "else:\n",
    "    print('no match')\n"
   ]
  },
  {
   "cell_type": "code",
   "execution_count": 58,
   "id": "b32c841a-ad6b-4935-9ecd-f2b4ebcf385d",
   "metadata": {},
   "outputs": [
    {
     "name": "stdout",
     "output_type": "stream",
     "text": [
      "Yes, there is a match!\n"
     ]
    },
    {
     "name": "stderr",
     "output_type": "stream",
     "text": [
      "<>:2: SyntaxWarning: invalid escape sequence '\\A'\n",
      "<>:2: SyntaxWarning: invalid escape sequence '\\A'\n",
      "C:\\Users\\HP1\\AppData\\Local\\Temp\\ipykernel_21340\\4215947294.py:2: SyntaxWarning: invalid escape sequence '\\A'\n",
      "  x = re.findall(\"\\AThe\", txt) # 'he' one or more charecter 'o'\n"
     ]
    }
   ],
   "source": [
    "txt = 'The rain in Spain'\n",
    "x = re.findall(\"\\AThe\", txt) # 'he' one or more charecter 'o'\n",
    "if x:\n",
    "    print('Yes, there is a match!')\n",
    "else:\n",
    "    print('No match')"
   ]
  },
  {
   "cell_type": "code",
   "execution_count": 61,
   "id": "412f1b2a-d797-48e1-bbbb-083149fce991",
   "metadata": {},
   "outputs": [
    {
     "name": "stdout",
     "output_type": "stream",
     "text": [
      "No match\n"
     ]
    }
   ],
   "source": [
    "txt = 'The rain in Spain'\n",
    "x = re.findall(r'\\bain', txt)  # find the first of the word\n",
    "if x:\n",
    "    print('Yes, there is at least one match!')\n",
    "else:\n",
    "    print('No match')"
   ]
  },
  {
   "cell_type": "code",
   "execution_count": 64,
   "id": "d63fdf6b-3a16-40ba-8afa-df1d7944fd7f",
   "metadata": {},
   "outputs": [
    {
     "name": "stdout",
     "output_type": "stream",
     "text": [
      "['ain', 'ain']\n",
      "Yes, there is at least one match!\n"
     ]
    }
   ],
   "source": [
    "txt = 'The rain in Spain'\n",
    "x = re.findall(r'ain\\b', txt)  # find the last of the word\n",
    "print(x)\n",
    "if x:\n",
    "    print('Yes, there is at least one match!')\n",
    "else:\n",
    "    print('No match')"
   ]
  },
  {
   "cell_type": "code",
   "execution_count": 65,
   "id": "5806382a-226e-4e1a-908d-c84a0ec6ff37",
   "metadata": {},
   "outputs": [
    {
     "name": "stdout",
     "output_type": "stream",
     "text": [
      "['ain', 'ain']\n",
      "Yes, there is at least one match!\n"
     ]
    }
   ],
   "source": [
    "txt = 'The rain in Spain'\n",
    "x = re.findall(r'\\Bain', txt)  # check if 'ain' is present, but NOT at the beginning of a word.\n",
    "print(x)\n",
    "if x:\n",
    "    print('Yes, there is at least one match!')\n",
    "else:\n",
    "    print('No match')"
   ]
  },
  {
   "cell_type": "code",
   "execution_count": 66,
   "id": "fba9c4f5-5286-48a2-a5a3-f459c8a871dc",
   "metadata": {},
   "outputs": [
    {
     "name": "stdout",
     "output_type": "stream",
     "text": [
      "[]\n",
      "No match\n"
     ]
    }
   ],
   "source": [
    "txt = 'The rain in Spain'\n",
    "x = re.findall(r'ain\\B', txt)  # check if 'ain' is present, but NOT at the end of a word.\n",
    "print(x)\n",
    "if x:\n",
    "    print('Yes, there is at least one match!')\n",
    "else:\n",
    "    print('No match')"
   ]
  },
  {
   "cell_type": "code",
   "execution_count": 71,
   "id": "fa19a120-7970-4813-bda4-b906e222eb5c",
   "metadata": {},
   "outputs": [
    {
     "name": "stdout",
     "output_type": "stream",
     "text": [
      "[]\n"
     ]
    },
    {
     "name": "stderr",
     "output_type": "stream",
     "text": [
      "<>:2: SyntaxWarning: invalid escape sequence '\\d'\n",
      "<>:2: SyntaxWarning: invalid escape sequence '\\d'\n",
      "C:\\Users\\HP1\\AppData\\Local\\Temp\\ipykernel_21340\\745285841.py:2: SyntaxWarning: invalid escape sequence '\\d'\n",
      "  x = re.findall('\\d' , txt)  # digit\n"
     ]
    }
   ],
   "source": [
    "txt = 'The rain in Spain'\n",
    "x = re.findall('\\d' , txt)  # digit\n",
    "print(x)"
   ]
  },
  {
   "cell_type": "code",
   "execution_count": 70,
   "id": "6581eb3a-f88c-4815-8843-1972dcabfd3d",
   "metadata": {},
   "outputs": [
    {
     "name": "stdout",
     "output_type": "stream",
     "text": [
      "['T', 'h', 'e', ' ', 'r', 'a', 'i', 'n', ' ', 'i', 'n', ' ', 'S', 'p', 'a', 'i', 'n']\n"
     ]
    },
    {
     "name": "stderr",
     "output_type": "stream",
     "text": [
      "<>:2: SyntaxWarning: invalid escape sequence '\\D'\n",
      "<>:2: SyntaxWarning: invalid escape sequence '\\D'\n",
      "C:\\Users\\HP1\\AppData\\Local\\Temp\\ipykernel_21340\\317798957.py:2: SyntaxWarning: invalid escape sequence '\\D'\n",
      "  x = re.findall('\\D' , txt)  # find non digit character\n"
     ]
    }
   ],
   "source": [
    "txt = 'The rain in Spain'\n",
    "x = re.findall('\\D' , txt)  # find non digit character\n",
    "print(x)"
   ]
  },
  {
   "cell_type": "code",
   "execution_count": 72,
   "id": "3534babf-d8ba-474e-8194-47916f8e5352",
   "metadata": {},
   "outputs": [
    {
     "name": "stdout",
     "output_type": "stream",
     "text": [
      "[' ', ' ', ' ']\n"
     ]
    },
    {
     "name": "stderr",
     "output_type": "stream",
     "text": [
      "<>:4: SyntaxWarning: invalid escape sequence '\\s'\n",
      "<>:4: SyntaxWarning: invalid escape sequence '\\s'\n",
      "C:\\Users\\HP1\\AppData\\Local\\Temp\\ipykernel_21340\\1375622297.py:4: SyntaxWarning: invalid escape sequence '\\s'\n",
      "  x = re.findall('\\s' , txt)  # check if ain is present, but NOT at the end of a word.\n"
     ]
    }
   ],
   "source": [
    "# return every white space character\n",
    "\n",
    "txt = 'The rain in Spain'\n",
    "x = re.findall('\\s' , txt)  # white space character\n",
    "print(x)"
   ]
  },
  {
   "cell_type": "code",
   "execution_count": 74,
   "id": "28150fd5-cfb2-483d-9630-70633e289922",
   "metadata": {},
   "outputs": [
    {
     "name": "stdout",
     "output_type": "stream",
     "text": [
      "['T', 'h', 'e', 'r', 'a', 'i', 'n', 'i', 'n', 'S', 'p', 'a', 'i', 'n']\n"
     ]
    },
    {
     "name": "stderr",
     "output_type": "stream",
     "text": [
      "<>:2: SyntaxWarning: invalid escape sequence '\\S'\n",
      "<>:2: SyntaxWarning: invalid escape sequence '\\S'\n",
      "C:\\Users\\HP1\\AppData\\Local\\Temp\\ipykernel_21340\\1286439504.py:2: SyntaxWarning: invalid escape sequence '\\S'\n",
      "  x = re.findall('\\S' , txt)  # non space character\n"
     ]
    }
   ],
   "source": [
    "txt = 'The rain in Spain'\n",
    "x = re.findall('\\S' , txt)  # non space character\n",
    "print(x)"
   ]
  },
  {
   "cell_type": "code",
   "execution_count": 80,
   "id": "478d7819-d1f1-4a7f-a925-f3f1c1099a2a",
   "metadata": {},
   "outputs": [
    {
     "name": "stdout",
     "output_type": "stream",
     "text": [
      "['T', 'h', 'e', 'r', 'a', 'i', 'n', 'i', 'n', 'S', 'p', 'a', 'i', 'n', '1', '2', '3', '4', '_', '_']\n"
     ]
    },
    {
     "name": "stderr",
     "output_type": "stream",
     "text": [
      "<>:2: SyntaxWarning: invalid escape sequence '\\w'\n",
      "<>:2: SyntaxWarning: invalid escape sequence '\\w'\n",
      "C:\\Users\\HP1\\AppData\\Local\\Temp\\ipykernel_21340\\1190974422.py:2: SyntaxWarning: invalid escape sequence '\\w'\n",
      "  x = re.findall('\\w' , txt)  # return a-z, A-Z, 0-9, _\n"
     ]
    }
   ],
   "source": [
    "txt = 'The rain in Spain 1234 _ _'\n",
    "x = re.findall('\\w' , txt)  # return a-z, A-Z, 0-9, _\n",
    "print(x)"
   ]
  },
  {
   "cell_type": "code",
   "execution_count": 83,
   "id": "c5cd4616-28c5-4cda-9b2a-fb566586ca4b",
   "metadata": {},
   "outputs": [
    {
     "name": "stdout",
     "output_type": "stream",
     "text": [
      "[' ', '!', ' ', ' ', '?']\n"
     ]
    },
    {
     "name": "stderr",
     "output_type": "stream",
     "text": [
      "<>:3: SyntaxWarning: invalid escape sequence '\\W'\n",
      "<>:3: SyntaxWarning: invalid escape sequence '\\W'\n",
      "C:\\Users\\HP1\\AppData\\Local\\Temp\\ipykernel_21340\\3121167226.py:3: SyntaxWarning: invalid escape sequence '\\W'\n",
      "  x = re.findall('\\W' , txt)  # check if ain is present, but NOT at the end of a word.\n"
     ]
    }
   ],
   "source": [
    "# return !, ?, ' '\n",
    "txt = 'The rain! in Spain?'\n",
    "x = re.findall('\\W' , txt)  # check if ain is present, but NOT at the end of a word.\n",
    "print(x)"
   ]
  },
  {
   "cell_type": "code",
   "execution_count": 84,
   "id": "f80f90bd-83f2-4cd8-a8e3-ed6582a3bb53",
   "metadata": {},
   "outputs": [
    {
     "name": "stdout",
     "output_type": "stream",
     "text": [
      "['Spain']\n"
     ]
    },
    {
     "name": "stderr",
     "output_type": "stream",
     "text": [
      "<>:4: SyntaxWarning: invalid escape sequence '\\Z'\n",
      "<>:4: SyntaxWarning: invalid escape sequence '\\Z'\n",
      "C:\\Users\\HP1\\AppData\\Local\\Temp\\ipykernel_21340\\2859962060.py:4: SyntaxWarning: invalid escape sequence '\\Z'\n",
      "  x = re.findall('Spain\\Z' , txt)  # check if ain is present, but NOT at the end of a word.\n"
     ]
    }
   ],
   "source": [
    "# check if the string ends with 'Spain'\n",
    "\n",
    "txt = 'The rain in Spain'\n",
    "x = re.findall('Spain\\Z' , txt)  \n",
    "print(x)"
   ]
  },
  {
   "cell_type": "code",
   "execution_count": 86,
   "id": "4abe76d6-bfae-4fef-8ae4-491c987f2088",
   "metadata": {},
   "outputs": [
    {
     "name": "stdout",
     "output_type": "stream",
     "text": [
      "['r', 'a', 'n', 'n', 'a', 'n']\n"
     ]
    }
   ],
   "source": [
    "txt = 'The rain in Spain'\n",
    "x = re.findall('[arn]' , txt)  \n",
    "print(x)"
   ]
  },
  {
   "cell_type": "code",
   "execution_count": 87,
   "id": "ae782b95-18e1-4398-a210-526370430cfc",
   "metadata": {},
   "outputs": [
    {
     "name": "stdout",
     "output_type": "stream",
     "text": [
      "['h', 'e', 'a', 'i', 'n', 'i', 'n', 'a', 'i', 'n']\n"
     ]
    }
   ],
   "source": [
    "txt = 'The rain in Spain'\n",
    "x = re.findall('[a-n]' , txt)  \n",
    "print(x)"
   ]
  },
  {
   "cell_type": "code",
   "execution_count": 88,
   "id": "6dc0cac2-2f96-441d-b871-9a6e07f7c1b5",
   "metadata": {},
   "outputs": [
    {
     "name": "stdout",
     "output_type": "stream",
     "text": [
      "['T', 'h', 'e', ' ', 'i', ' ', 'i', ' ', 'S', 'p', 'i']\n"
     ]
    }
   ],
   "source": [
    "txt = 'The rain in Spain'\n",
    "x = re.findall('[^arn]' , txt)  \n",
    "print(x)"
   ]
  },
  {
   "cell_type": "code",
   "execution_count": 89,
   "id": "8bda4cdb-419b-4d9c-803b-3f3f33eaadbb",
   "metadata": {},
   "outputs": [
    {
     "name": "stdout",
     "output_type": "stream",
     "text": [
      "['1', '2', '3', '4']\n"
     ]
    }
   ],
   "source": [
    "txt = '1234556787'\n",
    "x = re.findall('[1234]' , txt)  \n",
    "print(x)"
   ]
  },
  {
   "cell_type": "code",
   "execution_count": 90,
   "id": "d62fd674-f44d-4851-9c53-3f585ae1d460",
   "metadata": {},
   "outputs": [
    {
     "name": "stdout",
     "output_type": "stream",
     "text": [
      "['1', '2', '3', '4', '5', '5', '6', '7', '8', '7']\n"
     ]
    }
   ],
   "source": [
    "txt = '1234556787'\n",
    "x = re.findall('[0-9]' , txt)  \n",
    "print(x)"
   ]
  },
  {
   "cell_type": "code",
   "execution_count": 91,
   "id": "9d19b9ca-bf68-480f-9401-b37cc7adc8c3",
   "metadata": {},
   "outputs": [
    {
     "data": {
      "text/plain": [
       "['11', '45']"
      ]
     },
     "execution_count": 91,
     "metadata": {},
     "output_type": "execute_result"
    }
   ],
   "source": [
    "txt = '8 times before 11:45 AM'\n",
    "x = re.findall('[0-5][0-9]', txt)\n",
    "x"
   ]
  },
  {
   "cell_type": "code",
   "execution_count": 93,
   "id": "c429134c-a7a3-4d60-8491-d95e23f58b43",
   "metadata": {},
   "outputs": [
    {
     "data": {
      "text/plain": [
       "['t', 'i', 'm', 'e', 's', 'b', 'e', 'f', 'o', 'r', 'e', 'A', 'M']"
      ]
     },
     "execution_count": 93,
     "metadata": {},
     "output_type": "execute_result"
    }
   ],
   "source": [
    "txt = '8 times before 11:45 AM'\n",
    "x = re.findall('[a-zA-Z]', txt)\n",
    "x"
   ]
  },
  {
   "cell_type": "code",
   "execution_count": null,
   "id": "b4a7d042-027d-4870-8d29-0b4bd2a11bb3",
   "metadata": {},
   "outputs": [],
   "source": []
  }
 ],
 "metadata": {
  "kernelspec": {
   "display_name": "Python 3 (ipykernel)",
   "language": "python",
   "name": "python3"
  },
  "language_info": {
   "codemirror_mode": {
    "name": "ipython",
    "version": 3
   },
   "file_extension": ".py",
   "mimetype": "text/x-python",
   "name": "python",
   "nbconvert_exporter": "python",
   "pygments_lexer": "ipython3",
   "version": "3.12.3"
  }
 },
 "nbformat": 4,
 "nbformat_minor": 5
}
