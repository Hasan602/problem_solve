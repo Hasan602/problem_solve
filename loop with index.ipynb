{
 "cells": [
  {
   "cell_type": "markdown",
   "id": "3eb23628-95d2-4766-a7ff-2b04dbda1880",
   "metadata": {},
   "source": [
    "### <font color = red> Loop with index </font>"
   ]
  },
  {
   "cell_type": "code",
   "execution_count": 3,
   "id": "41a06875-b2eb-46c2-a362-2523155aeedc",
   "metadata": {},
   "outputs": [
    {
     "name": "stdout",
     "output_type": "stream",
     "text": [
      "red\n",
      "blue\n",
      "yellow\n"
     ]
    }
   ],
   "source": [
    "color = ['red', 'blue', 'yellow']\n",
    "for i in color:\n",
    "    print(i)"
   ]
  },
  {
   "cell_type": "code",
   "execution_count": 4,
   "id": "427ffa48-86c9-4eea-bf18-af32e1a02f80",
   "metadata": {},
   "outputs": [
    {
     "name": "stdout",
     "output_type": "stream",
     "text": [
      "0 red\n",
      "1 blue\n",
      "2 yellow\n"
     ]
    }
   ],
   "source": [
    "for i in range(len(color)):\n",
    "    print(i, color[i])"
   ]
  },
  {
   "cell_type": "code",
   "execution_count": null,
   "id": "27f982b3-cb6e-4b14-9e9d-67e79df378fc",
   "metadata": {},
   "outputs": [],
   "source": [
    "help(enumerate)"
   ]
  },
  {
   "cell_type": "code",
   "execution_count": 6,
   "id": "646c0f23-2115-402e-ba3a-aa0d6fe06a06",
   "metadata": {},
   "outputs": [
    {
     "name": "stdout",
     "output_type": "stream",
     "text": [
      "0 red\n",
      "1 blue\n",
      "2 yellow\n"
     ]
    }
   ],
   "source": [
    "for i, j in enumerate(color):\n",
    "    print(i, j)"
   ]
  },
  {
   "cell_type": "code",
   "execution_count": 7,
   "id": "d43a002e-176c-4731-ab6c-d7a4e436ef60",
   "metadata": {},
   "outputs": [
    {
     "name": "stdout",
     "output_type": "stream",
     "text": [
      "1 red\n",
      "2 blue\n",
      "3 yellow\n"
     ]
    }
   ],
   "source": [
    "for i, j in enumerate(color, 1):\n",
    "    print(i, j)"
   ]
  },
  {
   "cell_type": "markdown",
   "id": "a61928ed-1cd3-4f88-959c-eccd5f844973",
   "metadata": {},
   "source": [
    "### <font color = red>set list tuple dictionary</font>"
   ]
  },
  {
   "cell_type": "code",
   "execution_count": null,
   "id": "a4f7b0cf-8c11-4c54-b52e-c182436491ff",
   "metadata": {},
   "outputs": [],
   "source": []
  },
  {
   "cell_type": "code",
   "execution_count": null,
   "id": "226a566e-bc13-492b-99fc-651ba8b04a47",
   "metadata": {},
   "outputs": [],
   "source": []
  }
 ],
 "metadata": {
  "kernelspec": {
   "display_name": "Python 3 (ipykernel)",
   "language": "python",
   "name": "python3"
  },
  "language_info": {
   "codemirror_mode": {
    "name": "ipython",
    "version": 3
   },
   "file_extension": ".py",
   "mimetype": "text/x-python",
   "name": "python",
   "nbconvert_exporter": "python",
   "pygments_lexer": "ipython3",
   "version": "3.12.3"
  }
 },
 "nbformat": 4,
 "nbformat_minor": 5
}
